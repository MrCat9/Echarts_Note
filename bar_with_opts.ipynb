{
 "cells": [
  {
   "cell_type": "code",
   "execution_count": 4,
   "id": "27e8baaf-7580-4210-8576-d2972bf45a7c",
   "metadata": {},
   "outputs": [
    {
     "name": "stdout",
     "output_type": "stream",
     "text": [
      "\n"
     ]
    }
   ],
   "source": [
    "\n",
    "# https://blog.csdn.net/m0_60495479/article/details/128690869\n",
    "\n",
    "\n",
    "import pyecharts.options as opts\n",
    "from pyecharts.charts import Bar\n",
    "from pyecharts.faker import Faker\n",
    "\n",
    "\n",
    "bar = (\n",
    "    # 条形图\n",
    "    Bar(\n",
    "        # 初始化配置项\n",
    "        init_opts=opts.InitOpts(\n",
    "            width='95vw',  # 图表画布宽度\n",
    "            height='95vh',  # 图标画布长度\n",
    "            chart_id=None,  # 图表 ID，图表唯一标识，用于在多图表时区分\n",
    "            renderer='canvas',  # 渲染风格，可选 \"canvas\", \"svg\"\n",
    "            page_title=\"Awesome-pyecharts\",  # 网页标题\n",
    "            theme=\"white\",  # 图表主题 white dark\n",
    "            bg_color=None,  # 图表背景颜色 可用颜色英文或者rgb(0,0,0)通道颜色配置\n",
    "        )\n",
    "    )\n",
    " \n",
    "    # 全局配置项\n",
    "    .set_global_opts(\n",
    "        # 标题配置项\n",
    "        title_opts=opts.TitleOpts(\n",
    "            title='条形图',  # 主标题\n",
    "            subtitle='副标题'  # 副标题\n",
    "        ),\n",
    "        # 工具箱配置项\n",
    "        toolbox_opts=opts.ToolboxOpts(\n",
    "            is_show=True,  # 是否显示该工具\n",
    "            orient='vertical',  # 工具栏 icon 的布局朝向\n",
    "            pos_left='right'  # 工具栏组件离容器左侧的距离\n",
    "        ),\n",
    "        # 区域缩放配置项\n",
    "        datazoom_opts=opts.DataZoomOpts(\n",
    "            is_show=True,  # 是否显示 组件。如果设置为 false，不会显示，但是数据过滤的功能还存在\n",
    "            type_='slider',  # 组件类型，可选 \"slider\", \"inside\"\n",
    "            orient='horizontal'  # 可选值为：'horizontal', 'vertical'\n",
    "        ),\n",
    "        # 视觉映射配置项\n",
    "        visualmap_opts=opts.VisualMapOpts(\n",
    "            is_show=True,  # 是否显示视觉映射配置\n",
    "            orient='vertical',  # 如何放置 visualMap 组件，水平（'horizontal'）或者竖直（'vertical'）\n",
    "            min_=0, # 指定 visualMapPiecewise 组件的最小值\n",
    "            max_=200, # 指定 visualMapPiecewise 组件的最大值\n",
    "        ),\n",
    "        # 提示框配置项\n",
    "        tooltip_opts=opts.TooltipOpts(\n",
    "            is_show=True,  # 是否显示提示框组件，包括提示框浮层和 axisPointer。\n",
    "            # 触发类型。可选：\n",
    "            # 'item': 数据项图形触发，主要在散点图，饼图等无类目轴的图表中使用。\n",
    "            # 'axis': 坐标轴触发，主要在柱状图，折线图等会使用类目轴的图表中使用。\n",
    "            # 'none': 什么都不触发\n",
    "            trigger='item',\n",
    "        )\n",
    "        # ---- 更多配置参数请转至 官方文档 配置项->全局配置项 ----\n",
    "    )\n",
    " \n",
    "    # 系列配置项\n",
    "    .set_series_opts(\n",
    "        # 图元样式配置项\n",
    "        itemstyle_opts=opts.ItemStyleOpts(border_color='black'),\n",
    "        # 文字样式配置项\n",
    "        textstyle_opts=opts.TextStyleOpts(\n",
    "            color='blue',  # 文字颜色\n",
    "            # 文字字体的风格\n",
    "            # 可选：'normal'，'italic'，'oblique'\n",
    "            font_style='normal',\n",
    "            # 主标题文字字体的粗细，可选：\n",
    "            # 'normal'，'bold'，'bolder'，'lighter'\n",
    "            font_weight='bold'\n",
    "        )\n",
    "        # ---- 更多配置参数请转至 官方文档 配置项->全局配置项 ----\n",
    "    )\n",
    " \n",
    "    # X轴配置\n",
    "    .add_xaxis(xaxis_data=Faker.choose())\n",
    "    # Y轴配置\n",
    "    .add_yaxis(series_name='商家1', y_axis=Faker.values())\n",
    "    .add_yaxis(series_name='商家2', y_axis=Faker.values())\n",
    "    # ---- 更多配置参数请转至 官方文档 图表类型->直角坐标系图表->Bar:柱状图/条形图 ----\n",
    ")\n",
    " \n",
    "# 生成html文件\n",
    "bar.render('templates/page/bar_with_opts.html')\n"
   ]
  }
 ],
 "metadata": {
  "kernelspec": {
   "display_name": "tmp_py37",
   "language": "python",
   "name": "tmp_py37"
  },
  "language_info": {
   "codemirror_mode": {
    "name": "ipython",
    "version": 3
   },
   "file_extension": ".py",
   "mimetype": "text/x-python",
   "name": "python",
   "nbconvert_exporter": "python",
   "pygments_lexer": "ipython3",
   "version": "3.7.9"
  },
  "pycharm": {
   "stem_cell": {
    "cell_type": "raw",
    "source": [],
    "metadata": {
     "collapsed": false
    }
   }
  }
 },
 "nbformat": 4,
 "nbformat_minor": 5
}